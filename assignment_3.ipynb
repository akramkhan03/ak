{
 "cells": [
  {
   "cell_type": "markdown",
   "id": "4e96153a",
   "metadata": {},
   "source": [
    "# Python Assignment - 3\n",
    "### Carries - 30 marks"
   ]
  },
  {
   "cell_type": "markdown",
   "id": "b5bc6391",
   "metadata": {},
   "source": [
    "## What is File function in python? What is keywords to create and write file. "
   ]
  },
  {
   "cell_type": "code",
   "execution_count": 12,
   "id": "ca9fcb29",
   "metadata": {},
   "outputs": [],
   "source": [
    "# there a function of file is.......\n",
    "file = open(\"fxfc\", \"w\")\n",
    "\n",
    "file.write(\"Hello, World!\")\n",
    "\n",
    "\n",
    "file.close()\n",
    "\n",
    "\n",
    "# this are the function\n"
   ]
  },
  {
   "cell_type": "markdown",
   "id": "77e6fcc1",
   "metadata": {},
   "source": [
    "#### Create and write a  file"
   ]
  },
  {
   "cell_type": "code",
   "execution_count": 16,
   "id": "cdf7ae1a",
   "metadata": {},
   "outputs": [
    {
     "name": "stdout",
     "output_type": "stream",
     "text": [
      "i have deleted\n",
      " file is long\n",
      " files is so big\n",
      " file is not completed\n"
     ]
    }
   ],
   "source": [
    "f = open(\"data1.txt\", \"w\")\n",
    "f.write(\"\"\"i have deleted\\n file is long\\n files is so big\\n file is not completed\"\"\")\n",
    "f.close()\n",
    "\n",
    "# open and read the file\n",
    "f = open(\"data1.txt\", \"r\")\n",
    "print(f.read())\n",
    "f.close()"
   ]
  },
  {
   "cell_type": "markdown",
   "id": "dd46afa5",
   "metadata": {},
   "source": [
    "## Write a Python program to append text to a file and display the text."
   ]
  },
  {
   "cell_type": "code",
   "execution_count": 18,
   "id": "c80ebe1f",
   "metadata": {},
   "outputs": [
    {
     "data": {
      "text/plain": [
       "'i have deleted\\n file is long\\n files is so big\\n file is not completednow the file has more contentnow the file has more content'"
      ]
     },
     "metadata": {},
     "output_type": "display_data"
    }
   ],
   "source": [
    "f = open(\"data1.txt\", \"a\")\n",
    "f.write(\"now the file has more content\")\n",
    "f.close()\n",
    "\n",
    "#read the file after the appending\n",
    "f = open(\"data1.txt\", \"r\")\n",
    "display(f.read())\n",
    "f.close()\n"
   ]
  },
  {
   "cell_type": "markdown",
   "id": "52316493",
   "metadata": {},
   "source": [
    "## Write a Python program to read first n lines of a file. "
   ]
  },
  {
   "cell_type": "code",
   "execution_count": 21,
   "id": "23617604",
   "metadata": {},
   "outputs": [
    {
     "name": "stdout",
     "output_type": "stream",
     "text": [
      "i have deleted\n",
      "\n"
     ]
    }
   ],
   "source": [
    "file_path = 'data1.txt'\n",
    "n = 5  # Number of lines to read\n",
    "\n",
    "file = open(file_path, 'r')\n",
    "lines = file.readlines()\n",
    "file.close()\n",
    "\n",
    "first_n_lines = lines[:1]\n",
    "\n",
    "for line in first_n_lines:\n",
    "    print(line)\n"
   ]
  },
  {
   "cell_type": "markdown",
   "id": "45dba4dc",
   "metadata": {},
   "source": [
    "## Write a Python program to read last n lines of a file. "
   ]
  },
  {
   "cell_type": "code",
   "execution_count": 67,
   "id": "8f5acc48",
   "metadata": {},
   "outputs": [
    {
     "name": "stdout",
     "output_type": "stream",
     "text": [
      "item\n"
     ]
    }
   ],
   "source": [
    "def read_last_n_lines(file_path, n):\n",
    "    with open(file_path, 'r') as file:\n",
    "        lines = file.readlines()\n",
    "        total_lines = len(lines)\n",
    "        start_index = max(0, total_lines - n)\n",
    "        last_n_lines = lines[start_index:]\n",
    "        for line in last_n_lines:\n",
    "            print(line.strip())  \n",
    "\n",
    "file_path = 'data1.txt'\n",
    "n = 4\n",
    "read_last_n_lines(file_path, n)\n"
   ]
  },
  {
   "cell_type": "markdown",
   "id": "76a74d09",
   "metadata": {},
   "source": [
    "## Write a Python program to read a file line by line and store it into a list"
   ]
  },
  {
   "cell_type": "code",
   "execution_count": 66,
   "id": "3ea8e4e4",
   "metadata": {},
   "outputs": [
    {
     "name": "stdout",
     "output_type": "stream",
     "text": [
      "['item']\n"
     ]
    }
   ],
   "source": [
    "file_path = 'data1.txt'\n",
    "file = open(file_path, 'r')\n",
    "\n",
    "lines = []\n",
    "\n",
    "for line in file:\n",
    "    lines.append(line.strip())\n",
    "\n",
    "file.close()\n",
    "\n",
    "print(lines)\n"
   ]
  },
  {
   "cell_type": "markdown",
   "id": "589e624c",
   "metadata": {},
   "source": [
    "## Write a Python program to read a file line by line store it into a variable."
   ]
  },
  {
   "cell_type": "code",
   "execution_count": 71,
   "id": "9a6f1553",
   "metadata": {},
   "outputs": [
    {
     "name": "stdout",
     "output_type": "stream",
     "text": [
      "variable\n",
      "item\n"
     ]
    }
   ],
   "source": [
    "file_path = \"data1.txt\"\n",
    "file = open(file_path, \"r\")\n",
    "\n",
    "lines = ['variable']\n",
    "for line in file:\n",
    "    lines.append(line.strip())\n",
    "\n",
    "file.close()\n",
    "\n",
    "for line in lines:\n",
    "    print(line)\n"
   ]
  },
  {
   "cell_type": "markdown",
   "id": "c5a5e0a9",
   "metadata": {},
   "source": [
    "## Write a Python program to copy the contents of a file to another file. "
   ]
  },
  {
   "cell_type": "code",
   "execution_count": 72,
   "id": "d47a46fb",
   "metadata": {},
   "outputs": [
    {
     "name": "stdout",
     "output_type": "stream",
     "text": [
      "File copied successfully!\n"
     ]
    }
   ],
   "source": [
    "def copy_file(source_file, destination_file):\n",
    "    try:\n",
    "        with open(source_file, 'r') as source:\n",
    "            with open(destination_file, 'w') as destination:\n",
    "                contents = source.read()\n",
    "                destination.write(contents)\n",
    "        print(\"File copied successfully!\")\n",
    "    except FileNotFoundError:\n",
    "        print(\"One or both files not found.\")\n",
    "    except Exception as e:\n",
    "        print(\"An error occurred:\", str(e))\n",
    "\n",
    "copy_file(\"data1.txt\", \"data2.txt\")\n"
   ]
  },
  {
   "cell_type": "markdown",
   "id": "165279e1",
   "metadata": {},
   "source": [
    "## Can one block of except statements handle multiple exception? "
   ]
  },
  {
   "cell_type": "markdown",
   "id": "69537418",
   "metadata": {},
   "source": [
    "To handle multiple exceptions, you can list the exception types within the except block, separated by commas. When an exception occurs, Python will check if it matches any of the listed exception types and execute the corresponding block of code."
   ]
  },
  {
   "cell_type": "code",
   "execution_count": 28,
   "id": "c605b730",
   "metadata": {},
   "outputs": [
    {
     "name": "stdout",
     "output_type": "stream",
     "text": [
      "a\n",
      "2\n"
     ]
    },
    {
     "ename": "NameError",
     "evalue": "name 'typeError' is not defined",
     "output_type": "error",
     "traceback": [
      "\u001b[1;31m---------------------------------------------------------------------------\u001b[0m",
      "\u001b[1;31mTypeError\u001b[0m                                 Traceback (most recent call last)",
      "Cell \u001b[1;32mIn[28], line 5\u001b[0m\n\u001b[0;32m      4\u001b[0m     num \u001b[38;5;241m=\u001b[39m \u001b[38;5;28mint\u001b[39m(\u001b[38;5;28minput\u001b[39m())\n\u001b[1;32m----> 5\u001b[0m     \u001b[38;5;28mprint\u001b[39m(string\u001b[38;5;241m+\u001b[39mnum)\n\u001b[0;32m      6\u001b[0m \u001b[38;5;28;01mexcept\u001b[39;00m(typeError,valueError) \u001b[38;5;28;01mas\u001b[39;00m e:\n",
      "\u001b[1;31mTypeError\u001b[0m: can only concatenate str (not \"int\") to str",
      "\nDuring handling of the above exception, another exception occurred:\n",
      "\u001b[1;31mNameError\u001b[0m                                 Traceback (most recent call last)",
      "Cell \u001b[1;32mIn[28], line 6\u001b[0m\n\u001b[0;32m      4\u001b[0m     num \u001b[38;5;241m=\u001b[39m \u001b[38;5;28mint\u001b[39m(\u001b[38;5;28minput\u001b[39m())\n\u001b[0;32m      5\u001b[0m     \u001b[38;5;28mprint\u001b[39m(string\u001b[38;5;241m+\u001b[39mnum)\n\u001b[1;32m----> 6\u001b[0m \u001b[38;5;28;01mexcept\u001b[39;00m(typeError,valueError) \u001b[38;5;28;01mas\u001b[39;00m e:\n\u001b[0;32m      7\u001b[0m     \u001b[38;5;28mprint\u001b[39m(e)\n",
      "\u001b[1;31mNameError\u001b[0m: name 'typeError' is not defined"
     ]
    }
   ],
   "source": [
    "#here the exmaple of \n",
    "string = input()\n",
    "try:\n",
    "    num = int(input())\n",
    "    print(string+num)\n",
    "except(typeError,valueError) as e:\n",
    "    print(e)"
   ]
  },
  {
   "cell_type": "markdown",
   "id": "759b2c5f",
   "metadata": {},
   "source": [
    "## Explain Exception handling? What is an Error in Python?\n"
   ]
  },
  {
   "cell_type": "code",
   "execution_count": null,
   "id": "555171f7",
   "metadata": {},
   "outputs": [],
   "source": [
    "1.Syntax Errors: Syntax errors occur when the code violates the rules of the Python language.\n",
    "    # exmpale of.....\n",
    "    print(\"Hello, World!\"\n",
    "2.Runtime Errors: Runtime errors, also known as exceptions, occur during the execution of a program.\n",
    "          #exmpale.....\n",
    "          num1 = 10\n",
    "num2 = 0\n",
    "result = num1 / num2\n",
    "\n",
    "3. Logical Errors: Logical errors occur when the program runs without any error or exception, but produces incorrect or unexpected results.\n",
    "          #exmpale\n",
    "         def calculate_average(numbers):\n",
    "    total = sum(numbers)\n",
    "    average = total / len(numbers)\n",
    "    return average\n",
    "\n",
    "numbers = [1, 2, 3, 4, 5]\n",
    "average = calculate_average(numbers)\n",
    "print(\"The average is:\", average)\n",
    "                  \n",
    " "
   ]
  },
  {
   "cell_type": "code",
   "execution_count": 25,
   "id": "56ad2efc",
   "metadata": {},
   "outputs": [
    {
     "name": "stdout",
     "output_type": "stream",
     "text": [
      "Enter a number: 2\n",
      "Enter another number: 5\n",
      "The result is: 0.4\n"
     ]
    }
   ],
   "source": [
    "# exmaple of expetion handling\n",
    "try:\n",
    "    num1 = int(input(\"Enter a number: \"))\n",
    "    num2 = int(input(\"Enter another number: \"))\n",
    "    result = num1 / num2\n",
    "    print(\"The result is:\", result)\n",
    "except ZeroDivisionError:\n",
    "    print(\"Error: Division by zero is not allowed.\")\n",
    "except ValueError:\n",
    "    print(\"Error: Invalid input. Please enter a valid number.\")\n"
   ]
  },
  {
   "cell_type": "markdown",
   "id": "503ae851",
   "metadata": {},
   "source": [
    "## Write a Python program to count the number of lines in a text file. "
   ]
  },
  {
   "cell_type": "code",
   "execution_count": 29,
   "id": "9b708d8d",
   "metadata": {},
   "outputs": [
    {
     "name": "stdout",
     "output_type": "stream",
     "text": [
      "The number of lines in the file is: 4\n"
     ]
    }
   ],
   "source": [
    "file_path = \"data1.txt\"\n",
    "file = open(file_path, \"r\")\n",
    "lines = file.readlines()\n",
    "num_lines = len(lines)\n",
    "file.close()\n",
    "\n",
    "print(\"The number of lines in the file is:\", num_lines)\n"
   ]
  },
  {
   "cell_type": "markdown",
   "id": "7dd706b2",
   "metadata": {},
   "source": [
    "## Write a Python program to write a list to a file. "
   ]
  },
  {
   "cell_type": "code",
   "execution_count": 79,
   "id": "b33cefc7",
   "metadata": {},
   "outputs": [],
   "source": [
    "my_list = [1, 2, 3, 4, 5]\n",
    "file_path = \"data1.txt\"\n",
    "\n",
    "with open(file_path, 'w') as file:\n",
    "    list_string = ' '.join(map(str, my_list))\n",
    "    file.write(list_string)\n"
   ]
  },
  {
   "cell_type": "markdown",
   "id": "a498a822",
   "metadata": {},
   "source": [
    "# Write a python program to find the longest words."
   ]
  },
  {
   "cell_type": "code",
   "execution_count": 73,
   "id": "4b880af1",
   "metadata": {},
   "outputs": [
    {
     "name": "stdout",
     "output_type": "stream",
     "text": [
      "The longest word in the text is: demonstrate\n"
     ]
    }
   ],
   "source": [
    "def find_longest_words(text):\n",
    "    # Split the text into individual words\n",
    "    words = text.split()\n",
    "\n",
    "    # Initialize the longest word variable\n",
    "    longest_word = \"data2.txt\"\n",
    "\n",
    "    # Iterate through each word in the text\n",
    "    for word in words:\n",
    "        # Check if the current word is longer than the longest word found so far\n",
    "        if len(word) > len(longest_word):\n",
    "            longest_word = word\n",
    "\n",
    "    return longest_word\n",
    "\n",
    "text = \"This is a sample text to demonstrate the program.\"\n",
    "longest_word = find_longest_words(text)\n",
    "print(\"The longest word in the text is:\", longest_word)\n"
   ]
  },
  {
   "cell_type": "markdown",
   "id": "cbbc881b",
   "metadata": {},
   "source": [
    "# How to Define a Class in Python? What Is Self? Give An Example Of A Python Class\n",
    ".\n"
   ]
  },
  {
   "cell_type": "code",
   "execution_count": 59,
   "id": "2576eaf5",
   "metadata": {},
   "outputs": [
    {
     "name": "stdout",
     "output_type": "stream",
     "text": [
      "John\n",
      "25\n"
     ]
    }
   ],
   "source": [
    "class Person:\n",
    "    def __init__(self, name, age):\n",
    "        self.name = name\n",
    "        self.age = age\n",
    "\n",
    "    def greet(self):\n",
    "        print(f\"Hello, my name is {self.name} and I am {self.age} years old.\")\n",
    "\n",
    "# Creating an instance of the Person class\n",
    "person = Person(\"John\", 25)\n",
    "\n",
    "\n",
    "print(person.name) \n",
    "print(person.age)  \n",
    "\n",
    "\n"
   ]
  },
  {
   "cell_type": "markdown",
   "id": "f856028b",
   "metadata": {},
   "source": [
    "# Write a Python class named Rectangle constructed by a length and width and a method which will compute the area of a rectangle"
   ]
  },
  {
   "cell_type": "code",
   "execution_count": 55,
   "id": "509ca5ef",
   "metadata": {},
   "outputs": [
    {
     "name": "stdout",
     "output_type": "stream",
     "text": [
      "The area of the rectangle is: 50\n"
     ]
    }
   ],
   "source": [
    "class Rectangle:\n",
    "    def __init__(self, length, width):\n",
    "        self.length = length\n",
    "        self.width = width\n",
    "\n",
    "    def calculate_area(self):\n",
    "        area = self.length * self.width\n",
    "        return area\n",
    "rectangle = Rectangle(5, 10)\n",
    "\n",
    "area = rectangle.calculate_area()\n",
    "\n",
    "print(\"The area of the rectangle is:\", area)\n"
   ]
  },
  {
   "cell_type": "markdown",
   "id": "bed33f31",
   "metadata": {},
   "source": [
    "## How many except statements can a try-except block have? Name Some built-in exception classes: "
   ]
  },
  {
   "cell_type": "markdown",
   "id": "b53ccfa9",
   "metadata": {},
   "source": [
    "# more than zero.\n",
    "A try-except block can have multiple except statements to handle different types of exceptions. This allows the program to handle different errors in different ways. Each except statement can handle a specific exception type or a group of related exception types."
   ]
  },
  {
   "cell_type": "markdown",
   "id": "35952e26",
   "metadata": {},
   "source": [
    "Built-in Exception Classes\n",
    "\n",
    "Python provides a set of built-in exception classes that represent different types of errors. Some commonly used built-in exception classes include:\n",
    "\n",
    "\n",
    "ValueError: Raised when a function receives an argument of the correct type but an inappropriate value.\n",
    "\n",
    "TypeError: Raised when an operation or function is applied to an object of an inappropriate type.\n",
    "\n",
    "IndexError: Raised when a sequence subscript is out of range.\n",
    "\n",
    "KeyError: Raised when a dictionary key is not found.\n",
    "\n",
    "FileNotFoundError: Raised when a file or directory is requested but cannot be found.\n",
    "\n",
    "ZeroDivisionError: Raised when division or modulo operation is performed with zero as the divisor.\n"
   ]
  },
  {
   "cell_type": "markdown",
   "id": "9d89a755",
   "metadata": {},
   "source": [
    "## Write python program that user to enter only odd numbers, else will raise an exception. "
   ]
  },
  {
   "cell_type": "code",
   "execution_count": 24,
   "id": "fb017904",
   "metadata": {},
   "outputs": [
    {
     "name": "stdout",
     "output_type": "stream",
     "text": [
      "Enter an odd number: 2\n",
      "Even number entered. Please enter an odd number.\n",
      "Enter an odd number: 3\n",
      "You entered: 3\n"
     ]
    }
   ],
   "source": [
    "def get_odd_number():\n",
    "    while True:\n",
    "        try:\n",
    "            number = int(input(\"Enter an odd number: \"))\n",
    "            if number % 2 == 0:\n",
    "                raise ValueError(\"Even number entered. Please enter an odd number.\")\n",
    "            return number\n",
    "        except ValueError as e:\n",
    "            print(e)\n",
    "\n",
    "odd_number = get_odd_number()\n",
    "print(\"You entered:\", odd_number)\n"
   ]
  },
  {
   "cell_type": "markdown",
   "id": "e8497bda",
   "metadata": {},
   "source": [
    "## Write a Python class named Circle constructed by a radius and two methods which will compute the area and the perimeter of a circle "
   ]
  },
  {
   "cell_type": "code",
   "execution_count": 23,
   "id": "2a6c509d",
   "metadata": {},
   "outputs": [
    {
     "name": "stdout",
     "output_type": "stream",
     "text": [
      "Area: 314.1592653589793\n",
      "Perimeter: 62.83185307179586\n"
     ]
    }
   ],
   "source": [
    "import math\n",
    "\n",
    "class Circle:\n",
    "    def __init__(self, radius):\n",
    "        self.radius = radius\n",
    "\n",
    "    def calculate_area(self):\n",
    "        area = math.pi * (self.radius ** 2)\n",
    "        return area\n",
    "\n",
    "    def calculate_perimeter(self):\n",
    "        perimeter = 2 * math.pi * self.radius\n",
    "        return perimeter\n",
    "\n",
    "circle = Circle(10)\n",
    "\n",
    "area = circle.calculate_area()\n",
    "print(\"Area:\", area)\n",
    "\n",
    "perimeter = circle.calculate_perimeter()\n",
    "print(\"Perimeter:\", perimeter)\n"
   ]
  },
  {
   "cell_type": "markdown",
   "id": "fc384afd",
   "metadata": {},
   "source": [
    "## Explain Inheritance in Python with an example? What is init? Or What Is A Constructor In Python? "
   ]
  },
  {
   "cell_type": "code",
   "execution_count": 12,
   "id": "242666cb",
   "metadata": {},
   "outputs": [
    {
     "name": "stdout",
     "output_type": "stream",
     "text": [
      "Buddy\n",
      "An animal speaks.\n",
      "The dog barks.\n"
     ]
    }
   ],
   "source": [
    "#init..........\n",
    "class Animal:\n",
    "    def __init__(self, name):\n",
    "        self.name = name\n",
    "\n",
    "    def speak(self):\n",
    "        print(\"An animal speaks.\")\n",
    "\n",
    "class Dog(Animal):\n",
    "    def bark(self):\n",
    "        print(\"The dog barks.\")\n",
    "\n",
    "# Creating an instance of the Dog class\n",
    "my_dog = Dog(\"Buddy\")\n",
    "\n",
    "# Accessing attributes and methods from the parent class\n",
    "print(my_dog.name) \n",
    "my_dog.speak()  \n",
    "my_dog.bark()  \n"
   ]
  },
  {
   "cell_type": "code",
   "execution_count": 13,
   "id": "433eaa92",
   "metadata": {},
   "outputs": [
    {
     "name": "stdout",
     "output_type": "stream",
     "text": [
      "Buddy\n",
      "An animal speaks.\n",
      "The dog barks.\n"
     ]
    }
   ],
   "source": [
    "#expale of inheritance\n",
    "class Animal:\n",
    "    def __init__(self, name):\n",
    "        self.name = name\n",
    "\n",
    "    def speak(self):\n",
    "        print(\"An animal speaks.\")\n",
    "\n",
    "class Dog(Animal):\n",
    "    def bark(self):\n",
    "        print(\"The dog barks.\")\n",
    "\n",
    "my_dog = Dog(\"Buddy\")\n",
    "\n",
    "\n",
    "print(my_dog.name)\n",
    "my_dog.speak()  \n",
    "\n",
    "my_dog.bark() \n"
   ]
  },
  {
   "cell_type": "markdown",
   "id": "ca9350b1",
   "metadata": {},
   "source": [
    "## What is Instantiation in terms of OOP terminology?\n",
    "\n"
   ]
  },
  {
   "cell_type": "markdown",
   "id": "8542118b",
   "metadata": {},
   "source": [
    "Instantiation is a fundamental concept in Object-Oriented Programming (OOP). It refers to the process of creating an instance or an object of a class. In simpler terms, instantiation is like creating a blueprint for an object and then actually building that object based on the blueprint."
   ]
  },
  {
   "cell_type": "code",
   "execution_count": 18,
   "id": "84c6ed72",
   "metadata": {},
   "outputs": [],
   "source": [
    "# Define a class\n",
    "class Car:\n",
    "    def __init__(self, make, model, year):\n",
    "        self.make = make\n",
    "        self.model = model\n",
    "        self.year = year\n",
    "\n",
    "# Instantiate an object of the Car class\n",
    "my_car = Car(\"Toyota\", \"Camry\", 2022)\n"
   ]
  },
  {
   "cell_type": "code",
   "execution_count": null,
   "id": "88718950",
   "metadata": {},
   "outputs": [],
   "source": []
  }
 ],
 "metadata": {
  "kernelspec": {
   "display_name": "Python 3 (ipykernel)",
   "language": "python",
   "name": "python3"
  },
  "language_info": {
   "codemirror_mode": {
    "name": "ipython",
    "version": 3
   },
   "file_extension": ".py",
   "mimetype": "text/x-python",
   "name": "python",
   "nbconvert_exporter": "python",
   "pygments_lexer": "ipython3",
   "version": "3.11.4"
  },
  "vscode": {
   "interpreter": {
    "hash": "2043299c89c8cd0b4d1a6f5cf4529bd58e6a4e0fe3181a25e0d328c821cdc5c5"
   }
  }
 },
 "nbformat": 4,
 "nbformat_minor": 5
}
